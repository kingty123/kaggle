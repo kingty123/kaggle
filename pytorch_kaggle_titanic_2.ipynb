{
  "nbformat": 4,
  "nbformat_minor": 0,
  "metadata": {
    "colab": {
      "provenance": []
    },
    "kernelspec": {
      "name": "python3",
      "display_name": "Python 3"
    },
    "language_info": {
      "name": "python"
    }
  },
  "cells": [
    {
      "cell_type": "code",
      "execution_count": 1,
      "metadata": {
        "id": "ZyPCSafNFlpT"
      },
      "outputs": [],
      "source": [
        "# 필요한 라이브러리 임포트\n",
        "import pandas as pd\n",
        "import numpy as np\n",
        "from sklearn.model_selection import train_test_split\n",
        "from sklearn.ensemble import RandomForestClassifier\n",
        "from sklearn.metrics import accuracy_score, classification_report\n",
        "\n",
        "# 데이터 불러오기\n",
        "train = pd.read_csv('train.csv')\n",
        "test = pd.read_csv('test.csv')\n"
      ]
    },
    {
      "cell_type": "code",
      "source": [
        "import pandas as pd\n",
        "import numpy as np\n",
        "from sklearn.model_selection import train_test_split\n",
        "from sklearn.preprocessing import StandardScaler\n",
        "import torch\n",
        "import torch.nn as nn\n",
        "import torch.optim as optim\n",
        "\n",
        "# 데이터 불러오기\n",
        "train = pd.read_csv('train.csv')\n",
        "test = pd.read_csv('test.csv')"
      ],
      "metadata": {
        "id": "Az2HHNjNGe2k"
      },
      "execution_count": 3,
      "outputs": []
    },
    {
      "cell_type": "code",
      "source": [
        "# 데이터 전처리 함수 정의\n",
        "def preprocess_data(df):\n",
        "    # 결측치 처리\n",
        "    df['Age'] = df['Age'].fillna(df['Age'].mean())  # 평균으로 결측치 대체\n",
        "    df['Fare'] = df['Fare'].fillna(df['Fare'].mean())  # 평균으로 결측치 대체\n",
        "    df['Embarked'] = df['Embarked'].fillna(df['Embarked'].mode()[0])  # 최빈값으로 결측치 대체\n",
        "\n",
        "    # 가족 크기 특성 생성\n",
        "    df['FamilySize'] = df['SibSp'] + df['Parch'] + 1  # 가족 크기 계산\n",
        "\n",
        "    # 범주형 변수 인코딩\n",
        "    df['Sex'] = df['Sex'].map({'male': 0, 'female': 1})  # 성별 인코딩\n",
        "    df['Embarked'] = df['Embarked'].map({'C': 0, 'Q': 1, 'S': 2})  # 탑승 항구 인코딩\n",
        "\n",
        "    # Pclass를 SES로 인코딩\n",
        "    df['Pclass'] = df['Pclass'].map({1: 'Upper', 2: 'Middle', 3: 'Lower'})\n",
        "    df['Pclass'] = pd.Categorical(df['Pclass']).codes  # 범주형 변수를 숫자로 변환\n",
        "\n",
        "    # 사용할 특성 선택\n",
        "    features = ['Pclass', 'Sex', 'Age', 'SibSp', 'Parch', 'Fare', 'Embarked', 'FamilySize']\n",
        "    return df[features]"
      ],
      "metadata": {
        "id": "6DOHk9-AF1R5"
      },
      "execution_count": 4,
      "outputs": []
    },
    {
      "cell_type": "code",
      "source": [
        "features = ['Pclass', 'Sex', 'Age', 'SibSp', 'Parch', 'Fare', 'Embarked', 'FamilySize']"
      ],
      "metadata": {
        "id": "9pD3TcI5F1b_"
      },
      "execution_count": 5,
      "outputs": []
    },
    {
      "cell_type": "code",
      "source": [
        "# 학습 데이터 전처리\n",
        "X = preprocess_data(train)\n",
        "y = train['Survived']\n",
        "\n",
        "# 데이터 스케일링\n",
        "scaler = StandardScaler()\n",
        "X = scaler.fit_transform(X)\n",
        "\n",
        "# 학습 데이터와 검증 데이터 분리\n",
        "X_train, X_val, y_train, y_val = train_test_split(X, y, test_size=0.3, random_state=42)\n",
        "\n",
        "# PyTorch 데이터셋 및 데이터로더 생성\n",
        "X_train = torch.tensor(X_train, dtype=torch.float32)\n",
        "y_train = torch.tensor(y_train.values, dtype=torch.float32)\n",
        "X_val = torch.tensor(X_val, dtype=torch.float32)\n",
        "y_val = torch.tensor(y_val.values, dtype=torch.float32)"
      ],
      "metadata": {
        "id": "WJ4n1-BtF1mr"
      },
      "execution_count": 6,
      "outputs": []
    },
    {
      "cell_type": "code",
      "source": [
        "# 신경망 모델 정의\n",
        "class Net(nn.Module):\n",
        "    def __init__(self):\n",
        "        super(Net, self).__init__()\n",
        "        self.fc1 = nn.Linear(8, 32)  # 입력층 (7개 특성) -> 은닉층1 (32개 노드)\n",
        "        self.fc2 = nn.Linear(32, 16) # 은닉층1 -> 은닉층2 (16개 노드)\n",
        "        self.fc3 = nn.Linear(16, 1)  # 은닉층2 -> 출력층 (1개 노드, 생존 여부)\n",
        "\n",
        "    def forward(self, x):\n",
        "        x = torch.relu(self.fc1(x))\n",
        "        x = torch.relu(self.fc2(x))\n",
        "        x = torch.sigmoid(self.fc3(x))\n",
        "        return x\n"
      ],
      "metadata": {
        "id": "NQWoyRXsF1wW"
      },
      "execution_count": 7,
      "outputs": []
    },
    {
      "cell_type": "code",
      "source": [
        "# 모델, 손실 함수, 옵티마이저 생성\n",
        "model = Net()\n",
        "criterion = nn.BCELoss()\n",
        "optimizer = optim.Adam(model.parameters(), lr=0.001)\n",
        "\n",
        "# 학습 루프\n",
        "epochs = 100\n",
        "for epoch in range(epochs):\n",
        "    optimizer.zero_grad()\n",
        "    outputs = model(X_train)\n",
        "    loss = criterion(outputs, y_train.unsqueeze(1))\n",
        "    loss.backward()\n",
        "    optimizer.step()\n",
        "\n",
        "    if (epoch+1) % 10 == 0:\n",
        "        print(f'Epoch [{epoch+1}/{epochs}], Loss: {loss.item():.4f}')\n"
      ],
      "metadata": {
        "colab": {
          "base_uri": "https://localhost:8080/"
        },
        "id": "CEVOWPbqF143",
        "outputId": "c017bdad-51b2-4063-d5cd-90ebcd1ed716"
      },
      "execution_count": 8,
      "outputs": [
        {
          "output_type": "stream",
          "name": "stdout",
          "text": [
            "Epoch [10/100], Loss: 0.6487\n",
            "Epoch [20/100], Loss: 0.6320\n",
            "Epoch [30/100], Loss: 0.6130\n",
            "Epoch [40/100], Loss: 0.5900\n",
            "Epoch [50/100], Loss: 0.5642\n",
            "Epoch [60/100], Loss: 0.5379\n",
            "Epoch [70/100], Loss: 0.5129\n",
            "Epoch [80/100], Loss: 0.4908\n",
            "Epoch [90/100], Loss: 0.4725\n",
            "Epoch [100/100], Loss: 0.4583\n"
          ]
        }
      ]
    },
    {
      "cell_type": "code",
      "source": [
        "\n",
        "# 검증 데이터로 모델 평가\n",
        "with torch.no_grad():\n",
        "    outputs = model(X_val)\n",
        "    predicted = (outputs > 0.5).float()\n",
        "    accuracy = (predicted == y_val.unsqueeze(1)).sum().item() / len(y_val)\n",
        "    print(f'Validation Accuracy: {accuracy:.4f}')\n",
        "\n",
        "# 테스트 데이터 전처리 및 예측\n",
        "test_processed = preprocess_data(test)\n",
        "test_processed = scaler.transform(test_processed)\n",
        "test_processed = torch.tensor(test_processed, dtype=torch.float32)\n"
      ],
      "metadata": {
        "colab": {
          "base_uri": "https://localhost:8080/"
        },
        "id": "Ky6cPi22GM2i",
        "outputId": "c97c89e4-a5c0-4dc9-8feb-ca8e4394e0ed"
      },
      "execution_count": 9,
      "outputs": [
        {
          "output_type": "stream",
          "name": "stdout",
          "text": [
            "Validation Accuracy: 0.8097\n"
          ]
        }
      ]
    },
    {
      "cell_type": "code",
      "source": [
        "with torch.no_grad():\n",
        "    test_outputs = model(test_processed)\n",
        "    test_pred = (test_outputs > 0.5).int().numpy().squeeze()\n",
        "\n",
        "# 제출 파일 생성\n",
        "submission = pd.DataFrame({\n",
        "    'PassengerId': test['PassengerId'],\n",
        "    'Survived': test_pred\n",
        "})\n",
        "submission.to_csv('submission_pytorch.csv', index=False)\n",
        "print('\\n제출 파일이 생성되었습니다.')"
      ],
      "metadata": {
        "colab": {
          "base_uri": "https://localhost:8080/"
        },
        "id": "ChWXUb6BGM_3",
        "outputId": "80b6b3e1-f28c-48c4-bec4-e13a4c8f6678"
      },
      "execution_count": 10,
      "outputs": [
        {
          "output_type": "stream",
          "name": "stdout",
          "text": [
            "\n",
            "제출 파일이 생성되었습니다.\n"
          ]
        }
      ]
    }
  ]
}